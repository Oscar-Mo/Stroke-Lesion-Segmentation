{
  "cells": [
    {
      "cell_type": "markdown",
      "metadata": {
        "id": "view-in-github",
        "colab_type": "text"
      },
      "source": [
        "<a href=\"https://colab.research.google.com/github/Oscar-Mo/big_brain_BC/blob/main/basic_training.ipynb\" target=\"_parent\"><img src=\"https://colab.research.google.com/assets/colab-badge.svg\" alt=\"Open In Colab\"/></a>"
      ]
    },
    {
      "cell_type": "markdown",
      "metadata": {
        "id": "S3lz4msXvvPp"
      },
      "source": [
        "# Ischemic lesion segmentation in the brain\n",
        "\n",
        "This is the basic, foundational notebook we used to get us started on our individual experiments. It trains a UNet model on 525 samples of data in batches of 5. Due to GPU and RAM limitations, the samples need to be downsized to 64 x 64 x 64.\n",
        "\n",
        "-\n",
        "\n",
        "Credits:\n",
        "\n",
        "UNet 3D - https://github.com/jphdotam/Unet3D/blob/main/unet3d.py\n",
        "\n",
        "BCELoss - https://www.kaggle.com/code/bigironsphere/loss-function-library-keras-pytorch/notebook \n",
        "\n",
        "Atlas sample code - https://github.com/npnl/isles_2022/\n"
      ]
    },
    {
      "cell_type": "markdown",
      "source": [
        "### Setup\n",
        "The MRI data is loaded from a dataset in google drive"
      ],
      "metadata": {
        "id": "q1XGG99hPJ-3"
      }
    },
    {
      "cell_type": "code",
      "execution_count": 2,
      "metadata": {
        "id": "BWeuApWsSTj_",
        "colab": {
          "base_uri": "https://localhost:8080/"
        },
        "outputId": "1edabb96-5927-4952-e68b-cbc7b50330b4"
      },
      "outputs": [
        {
          "output_type": "stream",
          "name": "stdout",
          "text": [
            "Mounted at /content/drive\n"
          ]
        }
      ],
      "source": [
        "from google.colab import drive\n",
        "drive.mount('/content/drive')"
      ]
    },
    {
      "cell_type": "code",
      "execution_count": 3,
      "metadata": {
        "id": "rrcw02cdYF6X",
        "colab": {
          "base_uri": "https://localhost:8080/"
        },
        "outputId": "4affff63-945e-40f4-ee64-06e3eec247ae"
      },
      "outputs": [
        {
          "output_type": "stream",
          "name": "stdout",
          "text": [
            "Looking in indexes: https://pypi.org/simple, https://us-python.pkg.dev/colab-wheels/public/simple/\n",
            "Collecting bids\n",
            "  Downloading bids-0.0-py2.py3-none-any.whl (1.9 kB)\n",
            "Collecting pybids\n",
            "  Downloading pybids-0.15.5-py3-none-any.whl (14.9 MB)\n",
            "\u001b[K     |████████████████████████████████| 14.9 MB 13.9 MB/s \n",
            "\u001b[?25hCollecting click>=8.0\n",
            "  Downloading click-8.1.3-py3-none-any.whl (96 kB)\n",
            "\u001b[K     |████████████████████████████████| 96 kB 6.4 MB/s \n",
            "\u001b[?25hCollecting num2words\n",
            "  Downloading num2words-0.5.12-py3-none-any.whl (125 kB)\n",
            "\u001b[K     |████████████████████████████████| 125 kB 15.8 MB/s \n",
            "\u001b[?25hCollecting bids-validator\n",
            "  Downloading bids_validator-1.9.9-py2.py3-none-any.whl (21 kB)\n",
            "Requirement already satisfied: numpy in /usr/local/lib/python3.8/dist-packages (from pybids->bids) (1.21.6)\n",
            "Collecting formulaic<0.4,>=0.2.4\n",
            "  Downloading formulaic-0.3.4-py3-none-any.whl (68 kB)\n",
            "\u001b[K     |████████████████████████████████| 68 kB 5.4 MB/s \n",
            "\u001b[?25hCollecting sqlalchemy<1.4.0.dev0\n",
            "  Downloading SQLAlchemy-1.3.24-cp38-cp38-manylinux2010_x86_64.whl (1.3 MB)\n",
            "\u001b[K     |████████████████████████████████| 1.3 MB 65.5 MB/s \n",
            "\u001b[?25hRequirement already satisfied: scipy in /usr/local/lib/python3.8/dist-packages (from pybids->bids) (1.7.3)\n",
            "Requirement already satisfied: nibabel>=2.1 in /usr/local/lib/python3.8/dist-packages (from pybids->bids) (3.0.2)\n",
            "Requirement already satisfied: pandas>=0.23 in /usr/local/lib/python3.8/dist-packages (from pybids->bids) (1.3.5)\n",
            "Requirement already satisfied: astor>=0.8 in /usr/local/lib/python3.8/dist-packages (from formulaic<0.4,>=0.2.4->pybids->bids) (0.8.1)\n",
            "Collecting interface-meta<2.0.0,>=1.2.0\n",
            "  Downloading interface_meta-1.3.0-py3-none-any.whl (14 kB)\n",
            "Requirement already satisfied: wrapt>=1.0 in /usr/local/lib/python3.8/dist-packages (from formulaic<0.4,>=0.2.4->pybids->bids) (1.14.1)\n",
            "Requirement already satisfied: pytz>=2017.3 in /usr/local/lib/python3.8/dist-packages (from pandas>=0.23->pybids->bids) (2022.6)\n",
            "Requirement already satisfied: python-dateutil>=2.7.3 in /usr/local/lib/python3.8/dist-packages (from pandas>=0.23->pybids->bids) (2.8.2)\n",
            "Requirement already satisfied: six>=1.5 in /usr/local/lib/python3.8/dist-packages (from python-dateutil>=2.7.3->pandas>=0.23->pybids->bids) (1.15.0)\n",
            "Collecting docopt>=0.6.2\n",
            "  Downloading docopt-0.6.2.tar.gz (25 kB)\n",
            "Building wheels for collected packages: docopt\n",
            "  Building wheel for docopt (setup.py) ... \u001b[?25l\u001b[?25hdone\n",
            "  Created wheel for docopt: filename=docopt-0.6.2-py2.py3-none-any.whl size=13723 sha256=b4a4cb827900c87106226a7c80ca41696d2d95839e9f147639da7379db7a5b80\n",
            "  Stored in directory: /root/.cache/pip/wheels/56/ea/58/ead137b087d9e326852a851351d1debf4ada529b6ac0ec4e8c\n",
            "Successfully built docopt\n",
            "Installing collected packages: interface-meta, docopt, sqlalchemy, num2words, formulaic, click, bids-validator, pybids, bids\n",
            "  Attempting uninstall: sqlalchemy\n",
            "    Found existing installation: SQLAlchemy 1.4.45\n",
            "    Uninstalling SQLAlchemy-1.4.45:\n",
            "      Successfully uninstalled SQLAlchemy-1.4.45\n",
            "  Attempting uninstall: click\n",
            "    Found existing installation: click 7.1.2\n",
            "    Uninstalling click-7.1.2:\n",
            "      Successfully uninstalled click-7.1.2\n",
            "\u001b[31mERROR: pip's dependency resolver does not currently take into account all the packages that are installed. This behaviour is the source of the following dependency conflicts.\n",
            "flask 1.1.4 requires click<8.0,>=5.1, but you have click 8.1.3 which is incompatible.\u001b[0m\n",
            "Successfully installed bids-0.0 bids-validator-1.9.9 click-8.1.3 docopt-0.6.2 formulaic-0.3.4 interface-meta-1.3.0 num2words-0.5.12 pybids-0.15.5 sqlalchemy-1.3.24\n",
            "Looking in indexes: https://pypi.org/simple, https://us-python.pkg.dev/colab-wheels/public/simple/\n",
            "Collecting git+https://github.com/npnl/bidsio\n",
            "  Cloning https://github.com/npnl/bidsio to /tmp/pip-req-build-zz2u8h8f\n",
            "  Running command git clone -q https://github.com/npnl/bidsio /tmp/pip-req-build-zz2u8h8f\n",
            "Requirement already satisfied: numpy in /usr/local/lib/python3.8/dist-packages (from bidsio==0.1.0) (1.21.6)\n",
            "Requirement already satisfied: nibabel in /usr/local/lib/python3.8/dist-packages (from bidsio==0.1.0) (3.0.2)\n",
            "Requirement already satisfied: bids in /usr/local/lib/python3.8/dist-packages (from bidsio==0.1.0) (0.0)\n",
            "Requirement already satisfied: pybids in /usr/local/lib/python3.8/dist-packages (from bids->bidsio==0.1.0) (0.15.5)\n",
            "Requirement already satisfied: click>=8.0 in /usr/local/lib/python3.8/dist-packages (from pybids->bids->bidsio==0.1.0) (8.1.3)\n",
            "Requirement already satisfied: sqlalchemy<1.4.0.dev0 in /usr/local/lib/python3.8/dist-packages (from pybids->bids->bidsio==0.1.0) (1.3.24)\n",
            "Requirement already satisfied: bids-validator in /usr/local/lib/python3.8/dist-packages (from pybids->bids->bidsio==0.1.0) (1.9.9)\n",
            "Requirement already satisfied: pandas>=0.23 in /usr/local/lib/python3.8/dist-packages (from pybids->bids->bidsio==0.1.0) (1.3.5)\n",
            "Requirement already satisfied: num2words in /usr/local/lib/python3.8/dist-packages (from pybids->bids->bidsio==0.1.0) (0.5.12)\n",
            "Requirement already satisfied: formulaic<0.4,>=0.2.4 in /usr/local/lib/python3.8/dist-packages (from pybids->bids->bidsio==0.1.0) (0.3.4)\n",
            "Requirement already satisfied: scipy in /usr/local/lib/python3.8/dist-packages (from pybids->bids->bidsio==0.1.0) (1.7.3)\n",
            "Requirement already satisfied: interface-meta<2.0.0,>=1.2.0 in /usr/local/lib/python3.8/dist-packages (from formulaic<0.4,>=0.2.4->pybids->bids->bidsio==0.1.0) (1.3.0)\n",
            "Requirement already satisfied: wrapt>=1.0 in /usr/local/lib/python3.8/dist-packages (from formulaic<0.4,>=0.2.4->pybids->bids->bidsio==0.1.0) (1.14.1)\n",
            "Requirement already satisfied: astor>=0.8 in /usr/local/lib/python3.8/dist-packages (from formulaic<0.4,>=0.2.4->pybids->bids->bidsio==0.1.0) (0.8.1)\n",
            "Requirement already satisfied: python-dateutil>=2.7.3 in /usr/local/lib/python3.8/dist-packages (from pandas>=0.23->pybids->bids->bidsio==0.1.0) (2.8.2)\n",
            "Requirement already satisfied: pytz>=2017.3 in /usr/local/lib/python3.8/dist-packages (from pandas>=0.23->pybids->bids->bidsio==0.1.0) (2022.6)\n",
            "Requirement already satisfied: six>=1.5 in /usr/local/lib/python3.8/dist-packages (from python-dateutil>=2.7.3->pandas>=0.23->pybids->bids->bidsio==0.1.0) (1.15.0)\n",
            "Requirement already satisfied: docopt>=0.6.2 in /usr/local/lib/python3.8/dist-packages (from num2words->pybids->bids->bidsio==0.1.0) (0.6.2)\n",
            "Building wheels for collected packages: bidsio\n",
            "  Building wheel for bidsio (setup.py) ... \u001b[?25l\u001b[?25hdone\n",
            "  Created wheel for bidsio: filename=bidsio-0.1.0-py3-none-any.whl size=13259 sha256=2d12de637887d2e6470ffa4fc249adb9bd5fe6a78be0cb25ecb714fbb9ed4500\n",
            "  Stored in directory: /tmp/pip-ephem-wheel-cache-tp4rm8u0/wheels/a7/c9/84/25d350b455ee7ea311235015bf5f412a152a6e976629fdc946\n",
            "Successfully built bidsio\n",
            "Installing collected packages: bidsio\n",
            "Successfully installed bidsio-0.1.0\n"
          ]
        }
      ],
      "source": [
        "!pip install bids\n",
        "!pip install git+https://github.com/npnl/bidsio\n",
        "import bidsio\n",
        "bids_loader = bidsio.BIDSLoader(data_entities=[{'subject': '',\n",
        "                                               'session': '',\n",
        "                                               'suffix': 'T1w',\n",
        "                                               'space': 'MNI152NLin2009aSym'}],\n",
        "                                target_entities=[{'suffix': 'mask',\n",
        "                                                'label': 'L',\n",
        "                                                'desc': 'T1lesion'}],\n",
        "                                data_derivatives_names=['ATLAS'],\n",
        "                                target_derivatives_names=['ATLAS'],\n",
        "                                batch_size=5,\n",
        "                                root_dir='drive/MyDrive/big_brain/split1/train/')"
      ]
    },
    {
      "cell_type": "code",
      "execution_count": 4,
      "metadata": {
        "id": "C2QsKN0hYmNW",
        "colab": {
          "base_uri": "https://localhost:8080/"
        },
        "outputId": "1516d23e-3541-4bd9-85a6-7c35f4848c24"
      },
      "outputs": [
        {
          "output_type": "stream",
          "name": "stdout",
          "text": [
            "There are 525 subjects in our dataset.\n",
            "Every sample loads 2 images.\n",
            "Images have these dimensions: (197, 233, 189)\n",
            "Every batch will load 5 samples.\n"
          ]
        }
      ],
      "source": [
        "tmp = bids_loader.load_sample(0)\n",
        "print(f'There are {len(bids_loader)} subjects in our dataset.')\n",
        "print(f'Every sample loads {len(tmp)} images.')\n",
        "print(f'Images have these dimensions: {bids_loader.data_shape}')\n",
        "print(f'Every batch will load {bids_loader.batch_size} samples.')"
      ]
    },
    {
      "cell_type": "markdown",
      "source": [
        "### Model + optimization\n"
      ],
      "metadata": {
        "id": "Yt_gsTVIzKpB"
      }
    },
    {
      "cell_type": "code",
      "source": [
        "import torch\n",
        "from UNet_model import UNet\n",
        "\n",
        "device = torch.device('cuda:0' if torch.cuda.is_available() else 'cpu')\n",
        "\n",
        "model = UNet(n_channels=1, n_classes=1)\n",
        "model.to(device)\n",
        "optimizer = torch.optim.SGD(model.parameters(), lr=0.01)"
      ],
      "metadata": {
        "id": "_MCQdbbAThpn"
      },
      "execution_count": 5,
      "outputs": []
    },
    {
      "cell_type": "markdown",
      "source": [
        "### Loss"
      ],
      "metadata": {
        "id": "ZT2YGq6VzO3z"
      }
    },
    {
      "cell_type": "code",
      "source": [
        "# credit: https://www.kaggle.com/code/bigironsphere/loss-function-library-keras-pytorch/notebook\n",
        "\n",
        "from torch import nn\n",
        "import torch.nn.functional as F\n",
        "\n",
        "class DiceBCELoss(nn.Module):\n",
        "    def __init__(self, weight=None, size_average=True):\n",
        "        super(DiceBCELoss, self).__init__()\n",
        "\n",
        "    def forward(self, inputs, targets, smooth=1):\n",
        "        \n",
        "        #comment out if your model contains a sigmoid or equivalent activation layer\n",
        "        inputs = F.sigmoid(inputs)       \n",
        "        \n",
        "        #flatten label and prediction tensors\n",
        "        inputs = inputs.view(-1)\n",
        "        targets = targets.view(-1)\n",
        "        \n",
        "        intersection = (inputs * targets).sum()                            \n",
        "        dice_loss = 1 - (2.*intersection + smooth)/(inputs.sum() + targets.sum() + smooth)  \n",
        "        BCE = F.binary_cross_entropy(inputs, targets, reduction='mean')\n",
        "        Dice_BCE = BCE + dice_loss\n",
        "        \n",
        "        return Dice_BCE\n",
        "\n",
        "loss_func = DiceBCELoss()"
      ],
      "metadata": {
        "id": "sRKRgnHwOIni"
      },
      "execution_count": 12,
      "outputs": []
    },
    {
      "cell_type": "code",
      "execution_count": 7,
      "metadata": {
        "id": "UW95jjqlkTJM"
      },
      "outputs": [],
      "source": [
        "def downsize_64(batch):\n",
        "  if (len(batch.shape) == 4):\n",
        "    batch = batch.unsqueeze(0)\n",
        "  num_samples = batch.shape[0]\n",
        "  scale = 3\n",
        "  batch = batch[:,:,::scale,::scale,::scale]\n",
        "  batch = batch[:,:,:64,:64]\n",
        "  zeros = torch.zeros(num_samples,1,64,64,1)\n",
        "  batch = torch.cat((zeros, batch), 4)\n",
        "  return batch"
      ]
    },
    {
      "cell_type": "code",
      "execution_count": 8,
      "metadata": {
        "id": "tS6TwiwghctI",
        "colab": {
          "base_uri": "https://localhost:8080/",
          "height": 516
        },
        "outputId": "7afa47ea-5fe4-4e49-effa-1a17102b0b3c"
      },
      "outputs": [
        {
          "output_type": "stream",
          "name": "stdout",
          "text": [
            "torch.Size([5, 1, 64, 64, 64])\n"
          ]
        },
        {
          "output_type": "display_data",
          "data": {
            "text/plain": [
              "<Figure size 1296x576 with 2 Axes>"
            ],
            "image/png": "[encoded data removed]"
          },
          "metadata": {
            "needs_background": "light"
          }
        }
      ],
      "source": [
        "import matplotlib.pyplot as plt\n",
        "\n",
        "data, target = next(bids_loader.load_batches())\n",
        "data = torch.Tensor(data)\n",
        "target = torch.Tensor(target)\n",
        "\n",
        "plt.figure(figsize=(18, 8)) \n",
        "plt.subplot(121)\n",
        "plt.imshow(downsize_64(data)[0,0,50]);plt.title('data')\n",
        "plt.subplot(122)\n",
        "plt.imshow(downsize_64(target)[0,0,50]);plt.title('target')\n",
        "print(downsize_64(target).shape)"
      ]
    },
    {
      "cell_type": "markdown",
      "source": [
        "### Training"
      ],
      "metadata": {
        "id": "dmwffp7YzSaZ"
      }
    },
    {
      "cell_type": "code",
      "execution_count": 14,
      "metadata": {
        "id": "bOEUt1iGNMS1",
        "colab": {
          "base_uri": "https://localhost:8080/"
        },
        "outputId": "0081ad3f-5402-411a-dc8e-f15172a169f4"
      },
      "outputs": [
        {
          "output_type": "stream",
          "name": "stderr",
          "text": [
            "/usr/local/lib/python3.8/dist-packages/torch/nn/functional.py:1967: UserWarning: nn.functional.sigmoid is deprecated. Use torch.sigmoid instead.\n",
            "  warnings.warn(\"nn.functional.sigmoid is deprecated. Use torch.sigmoid instead.\")\n"
          ]
        },
        {
          "output_type": "stream",
          "name": "stdout",
          "text": [
            "----------[1,    10] loss: 1.15548270\n",
            "----------[1,    20] loss: 1.13551965\n",
            "----------[1,    30] loss: 1.13572987\n",
            "----------[1,    40] loss: 1.12396163\n",
            "----------[1,    50] loss: 1.11174157\n",
            "----------[1,    60] loss: 1.10220050\n",
            "----------[1,    70] loss: 1.09463019\n",
            "----------[1,    80] loss: 1.09153398\n",
            "----------[1,    90] loss: 1.06069244\n",
            "----------[1,   100] loss: 1.05733650\n",
            "----------[2,   110] loss: 0.53374113\n",
            "----------[2,   120] loss: 1.04244958\n",
            "----------[2,   130] loss: 1.04463673\n",
            "----------[2,   140] loss: 1.06222281\n",
            "----------[2,   150] loss: 1.06284918\n",
            "----------[2,   160] loss: 1.02864538\n",
            "----------[2,   170] loss: 1.03019795\n",
            "----------[2,   180] loss: 1.03741925\n",
            "----------[2,   190] loss: 1.00762485\n",
            "----------[2,   200] loss: 0.96110259\n",
            "----------[2,   210] loss: 1.00649718\n",
            "----------[3,   220] loss: 0.99031137\n",
            "----------[3,   230] loss: 0.92602738\n",
            "----------[3,   240] loss: 1.03629094\n",
            "----------[3,   250] loss: 1.02582934\n",
            "----------[3,   260] loss: 0.99142618\n",
            "----------[3,   270] loss: 0.96846557\n",
            "----------[3,   280] loss: 0.92916641\n",
            "----------[3,   290] loss: 0.97739107\n",
            "----------[3,   300] loss: 0.84125295\n",
            "----------[3,   310] loss: 0.85248368\n",
            "----------[4,   320] loss: 0.46818603\n",
            "----------[4,   330] loss: 0.83373931\n",
            "----------[4,   340] loss: 0.92311503\n",
            "----------[4,   350] loss: 0.98758860\n",
            "----------[4,   360] loss: 1.01567998\n",
            "----------[4,   370] loss: 0.83390735\n",
            "----------[4,   380] loss: 0.81482027\n",
            "----------[4,   390] loss: 0.89370679\n",
            "----------[4,   400] loss: 0.82529165\n",
            "----------[4,   410] loss: 0.67699442\n",
            "----------[4,   420] loss: 0.85341752\n",
            "----------[5,   430] loss: 0.80057505\n",
            "----------[5,   440] loss: 0.68952951\n",
            "----------[5,   450] loss: 0.99120728\n",
            "----------[5,   460] loss: 0.94926407\n",
            "----------[5,   470] loss: 0.87568784\n",
            "----------[5,   480] loss: 0.73185045\n",
            "----------[5,   490] loss: 0.68500323\n",
            "----------[5,   500] loss: 0.78442448\n",
            "----------[5,   510] loss: 0.60910665\n",
            "----------[5,   520] loss: 0.68738447\n",
            "----------[6,   530] loss: 0.39446768\n",
            "----------[6,   540] loss: 0.63625396\n",
            "----------[6,   550] loss: 0.81769733\n",
            "----------[6,   560] loss: 0.90725144\n",
            "----------[6,   570] loss: 0.96436660\n",
            "----------[6,   580] loss: 0.63946716\n",
            "----------[6,   590] loss: 0.60325393\n",
            "----------[6,   600] loss: 0.76918268\n",
            "----------[6,   610] loss: 0.63462652\n",
            "----------[6,   620] loss: 0.51539842\n",
            "----------[6,   630] loss: 0.76910712\n",
            "----------[7,   640] loss: 0.65939522\n",
            "----------[7,   650] loss: 0.57047513\n",
            "----------[7,   660] loss: 0.94735119\n",
            "----------[7,   670] loss: 0.85029742\n",
            "----------[7,   680] loss: 0.78977752\n",
            "----------[7,   690] loss: 0.56874126\n",
            "----------[7,   700] loss: 0.50937476\n",
            "----------[7,   710] loss: 0.69498191\n",
            "----------[7,   720] loss: 0.47964318\n",
            "----------[7,   730] loss: 0.58904491\n",
            "----------[8,   740] loss: 0.35875509\n",
            "----------[8,   750] loss: 0.53360928\n",
            "----------[8,   760] loss: 0.81292865\n",
            "----------[8,   770] loss: 0.93259665\n",
            "----------[8,   780] loss: 0.96264392\n",
            "----------[8,   790] loss: 0.64627191\n",
            "----------[8,   800] loss: 0.56385446\n",
            "----------[8,   810] loss: 0.67043188\n",
            "----------[8,   820] loss: 0.57025877\n",
            "----------[8,   830] loss: 0.41356192\n",
            "----------[8,   840] loss: 0.72028883\n"
          ]
        }
      ],
      "source": [
        "import matplotlib.pyplot as plt\n",
        "\n",
        "# model to GPU\n",
        "device = torch.device('cuda:0' if torch.cuda.is_available() else 'cpu')\n",
        "model.to(device)\n",
        "\n",
        "i = 0\n",
        "loss_ls = []\n",
        "for epoch in range(8):\n",
        "    running_loss = 0.0\n",
        "    for data, label in bids_loader.load_batches():\n",
        "\n",
        "        data = torch.Tensor(data)\n",
        "        label = torch.Tensor(label)\n",
        "\n",
        "        data = downsize_64(data).to(device)\n",
        "        label = downsize_64(label).to(device)\n",
        "\n",
        "        # zero the parameter gradients\n",
        "        optimizer.zero_grad()\n",
        "\n",
        "        # forward + backward + optimize\n",
        "        outputs = model(data)\n",
        "        loss = loss_func(outputs, label)\n",
        "        loss_ls.append(loss.item())\n",
        "        loss.backward()\n",
        "        optimizer.step()\n",
        "\n",
        "        # print statistics\n",
        "        running_loss += loss.item()\n",
        "        print('-', end =\"\")\n",
        "        if (i % 10 == 9):\n",
        "          loss_str = f'[{epoch + 1}, {i + 1:5d}] loss: {running_loss / 10 :.8f}'\n",
        "          print(loss_str)\n",
        "          running_loss = 0.0\n",
        "        i += 1\n"
      ]
    },
    {
      "cell_type": "code",
      "source": [
        "import matplotlib.pyplot as plt\n",
        "\n",
        "loss_ls = [1.15548270, 1.13551965, 1.13572987, 1.12396163, 1.11174157, 1.10220050, 1.09463019, 1.09153398, 1.06069244, 1.05733650, 0.53374113, 1.04244958, 1.04463673, 1.06222281, 1.06284918, 1.02864538, 1.03019795, 1.03741925, 1.00762485, 0.96110259, 1.00649718, 0.99031137, 0.92602738, 1.03629094, 1.02582934, 0.99142618, 0.96846557, 0.92916641, 0.97739107, 0.84125295, 0.85248368, 0.46818603, 0.83373931, 0.92311503, 0.98758860, 1.01567998, 0.83390735, 0.81482027, 0.89370679, 0.82529165, 0.67699442, 0.85341752, 0.80057505, 0.68952951, 0.99120728, 0.94926407, 0.87568784, 0.73185045, 0.68500323, 0.78442448, 0.60910665, 0.68738447, 0.39446768, 0.63625396, 0.81769733, 0.90725144, 0.96436660, 0.63946716, 0.60325393, 0.76918268, 0.63462652, 0.51539842, 0.76910712, 0.65939522, 0.57047513, 0.94735119, 0.85029742, 0.78977752, 0.56874126, 0.50937476, 0.69498191, 0.47964318, 0.58904491, 0.35875509, 0.53360928, 0.81292865, 0.93259665, 0.96264392, 0.64627191, 0.56385446, 0.67043188, 0.57025877, 0.41356192, 0.72028883]\n",
        "plt.figure(figsize=(10,8))\n",
        "plt.title('Loss')\n",
        "plt.plot(loss_ls)"
      ],
      "metadata": {
        "colab": {
          "base_uri": "https://localhost:8080/",
          "height": 516
        },
        "id": "U6N_e2k8L66A",
        "outputId": "728fbc1e-c06f-4397-f794-4cf71d7d8d9d"
      },
      "execution_count": 7,
      "outputs": [
        {
          "output_type": "execute_result",
          "data": {
            "text/plain": [
              "[<matplotlib.lines.Line2D at 0x7fb428f34c40>]"
            ]
          },
          "metadata": {},
          "execution_count": 7
        },
        {
          "output_type": "display_data",
          "data": {
            "text/plain": [
              "<Figure size 720x576 with 1 Axes>"
            ],
            "image/png": "[encoded data removed]"
          },
          "metadata": {
            "needs_background": "light"
          }
        }
      ]
    }
  ],
  "metadata": {
    "colab": {
      "provenance": [],
      "toc_visible": true,
      "mount_file_id": "1hkP8THPrmJaRlm1QVfXGkZn-Uz6x3z_X",
      "authorship_tag": "ABX9TyMzWSS8P2KYIZ8V6DckkXVI",
      "include_colab_link": true
    },
    "kernelspec": {
      "display_name": "Python 3",
      "name": "python3"
    },
    "language_info": {
      "name": "python"
    },
    "accelerator": "GPU",
    "gpuClass": "standard"
  },
  "nbformat": 4,
  "nbformat_minor": 0
}